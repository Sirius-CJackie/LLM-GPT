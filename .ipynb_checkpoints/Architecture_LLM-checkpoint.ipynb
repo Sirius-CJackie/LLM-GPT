{
 "cells": [
  {
   "cell_type": "code",
   "execution_count": 2,
   "id": "9a605e84-9ce9-4c78-8f02-4d803beb5a31",
   "metadata": {},
   "outputs": [],
   "source": [
    "import torch \n",
    "import torch.nn as nn"
   ]
  },
  {
   "cell_type": "markdown",
   "id": "7a9e2a0c-87e1-4a99-91b8-243981c065f0",
   "metadata": {},
   "source": [
    "# review 前两章的流程\n",
    "1.分词制作token\n",
    "2.token 转换 成tokenid\n",
    "3.批量制作 key-target pair\n",
    "4.将token id转换成 vector\n",
    "5.嵌入位置信息 vector +　pos_vector\n",
    "6.q和k相乘获得 attention score\n",
    "7.mask\n",
    "8.归一化计算 attention weights\n",
    "9.w乘以v 获得 context vector\n"
   ]
  },
  {
   "cell_type": "code",
   "execution_count": 4,
   "id": "4fe826aa-3601-4c68-bce1-add98adaaff7",
   "metadata": {},
   "outputs": [],
   "source": [
    "#初始化小型GPT-2的配置\n",
    "GPT_CONFIG_124M = {\n",
    "    \"vocab_size\": 50257,    # Vocabulary size\n",
    "    \"context_length\": 1024, # Context length\n",
    "    \"emb_dim\": 768,         # Embedding dimension\n",
    "    \"n_heads\": 12,          # Number of attention heads\n",
    "    \"n_layers\": 12,         # Number of layers\n",
    "    \"drop_rate\": 0.1,       # Dropout rate\n",
    "    \"qkv_bias\": False       # Query-Key-Value bias\n",
    "}"
   ]
  },
  {
   "cell_type": "code",
   "execution_count": 4,
   "id": "fe786382-8c98-4e62-8439-339dd21bd33d",
   "metadata": {},
   "outputs": [],
   "source": [
    "# Listing 4.1 A placeholder GPT model architecture class\n",
    "import torch\n",
    "import torch.nn as nn\n",
    "\n",
    "class DummyGPTModel(nn.Module):\n",
    "    def __init__(self, cfg):\n",
    "        super().__init__()\n",
    "        self.tok_emb = nn.Embedding(cfg[\"vocab_size\"], cfg[\"emb_dim\"])\n",
    "        self.pos_emb = nn.Embedding(cfg[\"context_length\"], cfg[\"emb_dim\"])\n",
    "        self.drop_emb = nn.Dropout(cfg[\"drop_rate\"])\n",
    "        self.trf_blocks = nn.Sequential(\n",
    "            *[DummyTransformerBlock(cfg) for _ in range(cfg[\"n_layers\"])])      #A\n",
    "        self.final_norm = DummyLayerNorm(cfg[\"emb_dim\"])                       #B\n",
    "        self.out_head = nn.Linear(\n",
    "            cfg[\"emb_dim\"], cfg[\"vocab_size\"], bias=False\n",
    "        )\n",
    "\n",
    "    def forward(self, in_idx):\n",
    "        batch_size, seq_len = in_idx.shape\n",
    "        tok_embeds = self.tok_emb(in_idx)\n",
    "        pos_embeds = self.pos_emb(torch.arange(seq_len, device=in_idx.device))\n",
    "        x = tok_embeds + pos_embeds\n",
    "        x = self.drop_emb(x)\n",
    "        x = self.trf_blocks(x)\n",
    "        x = self.final_norm(x)\n",
    "        logits = self.out_head(x)\n",
    "        return logits\n",
    "\n",
    "class DummyTransformerBlock(nn.Module):                                       #C\n",
    "    def __init__(self, cfg):\n",
    "        super().__init__()\n",
    "\n",
    "    def forward(self, x):                                                     #D\n",
    "        return x\n",
    "\n",
    "class DummyLayerNorm(nn.Module):                                              #E\n",
    "    def __init__(self, normalized_shape, eps=1e-5):                           #F\n",
    "        super().__init__()\n",
    "\n",
    "    def forward(self, x):\n",
    "        return x\n",
    "\n",
    "\n",
    "#A 为 TransformerBlock 设置占位符\n",
    "#B 为 LayerNorm 设置占位符\n",
    "#C 一个简单的占位类，后续将被真正的 TransformerBlock 替换\n",
    "#D 该模块无实际操作，仅原样返回输入\n",
    "#E 一个简单的占位类，后续将被真正的 DummyLayerNorm 替换\n",
    "#F 此处的参数仅用于模拟LayerNorm接口"
   ]
  },
  {
   "cell_type": "code",
   "execution_count": 6,
   "id": "64384334-d1ab-477a-ba72-eb5e7ac5f9ea",
   "metadata": {},
   "outputs": [
    {
     "name": "stdout",
     "output_type": "stream",
     "text": [
      "<class 'list'>\n",
      "tensor([[6109, 3626, 6100,  345],\n",
      "        [6109, 1110, 6622,  257]])\n"
     ]
    }
   ],
   "source": [
    "#首先进行Token embeddings,从GPT-2导入\n",
    "import tiktoken\n",
    "tokenizer = tiktoken.get_encoding(\"gpt2\")\n",
    "batch = []\n",
    "txt1 = \"Every effort moves you\"\n",
    "txt2 = \"Every day holds a\"\n",
    "print(type(batch))\n",
    "batch.append(torch.tensor(tokenizer.encode(txt1)))\n",
    "batch.append(torch.tensor(tokenizer.encode(txt2)))\n",
    "batch = torch.stack(batch,dim=0)\n",
    "print(batch)"
   ]
  },
  {
   "cell_type": "code",
   "execution_count": 10,
   "id": "e31c8f82-8c64-45d8-af7f-2006e1652f23",
   "metadata": {},
   "outputs": [
    {
     "name": "stdout",
     "output_type": "stream",
     "text": [
      "Output shape: torch.Size([2, 4, 50257])\n",
      "tensor([[[-0.9289,  0.2748, -0.7557,  ..., -1.6070,  0.2702, -0.5888],\n",
      "         [-0.4476,  0.1726,  0.5354,  ..., -0.3932,  1.5285,  0.8557],\n",
      "         [ 0.5680,  1.6053, -0.2155,  ...,  1.1624,  0.1380,  0.7425],\n",
      "         [ 0.0447,  2.4787, -0.8843,  ...,  1.3219, -0.0864, -0.5856]],\n",
      "\n",
      "        [[-1.5474, -0.0542, -1.0571,  ..., -1.8061, -0.4494, -0.6747],\n",
      "         [-0.8422,  0.8243, -0.1098,  ..., -0.1434,  0.2079,  1.2046],\n",
      "         [ 0.1355,  1.1858, -0.1453,  ...,  0.0869, -0.1590,  0.1552],\n",
      "         [ 0.1666, -0.8138,  0.2307,  ...,  2.5035, -0.3055, -0.3083]]],\n",
      "       grad_fn=<UnsafeViewBackward0>)\n"
     ]
    }
   ],
   "source": [
    "#初始化一个拥有 1.24 亿参数的 DummyGPTModel 模型实例，并将分词后的数据批量输入到模型中：\n",
    "torch.manual_seed(123)\n",
    "model = DummyGPTModel(GPT_CONFIG_124M)\n",
    "logits = model(batch)\n",
    "print(\"Output shape:\", logits.shape)\n",
    "print(logits)"
   ]
  },
  {
   "cell_type": "code",
   "execution_count": 12,
   "id": "a1df0388-797c-4c7f-b6dd-cf7d339c7ea7",
   "metadata": {},
   "outputs": [
    {
     "name": "stdout",
     "output_type": "stream",
     "text": [
      "tensor([[0.2260, 0.3470, 0.0000, 0.2216, 0.0000, 0.0000],\n",
      "        [0.2133, 0.2394, 0.0000, 0.5198, 0.3297, 0.0000]],\n",
      "       grad_fn=<ReluBackward0>)\n",
      "tensor([[0.1324],\n",
      "        [0.2170]], grad_fn=<MeanBackward1>)\n",
      "tensor([[0.0231],\n",
      "        [0.0398]], grad_fn=<VarBackward0>)\n",
      "torch.Size([2, 1])\n",
      "tensor([0.1324, 0.2170], grad_fn=<MeanBackward1>)\n"
     ]
    }
   ],
   "source": [
    "#归一化操作，normalization 将输出均值调整为0，\n",
    "#将方差调整为1加快权重的收敛速度确保训练过程的一致性和稳定性\n",
    "torch.manual_seed(123)\n",
    "batch_example = torch.randn(2, 5)          #A\n",
    "layer = nn.Sequential(nn.Linear(5, 6), nn.ReLU())\n",
    "out = layer(batch_example)\n",
    "print(out)\n",
    "print(out.mean(dim=-1,keepdim=True))\n",
    "print(out.var(dim=-1,keepdim=True))\n",
    "mean = out.mean(dim=-1,keepdim=True)\n",
    "var = out.var(dim=-1,keepdim=True)\n",
    "print(mean.shape)\n",
    "print(out.mean(dim=-1))"
   ]
  },
  {
   "cell_type": "code",
   "execution_count": 14,
   "id": "46920815-90cf-421c-8920-fe05a11ccac7",
   "metadata": {},
   "outputs": [
    {
     "name": "stdout",
     "output_type": "stream",
     "text": [
      "Normalized layer outputs:\n",
      " tensor([[ 0.6159,  1.4126, -0.8719,  0.5872, -0.8719, -0.8719],\n",
      "        [-0.0189,  0.1121, -1.0876,  1.5173,  0.5647, -1.0876]],\n",
      "       grad_fn=<DivBackward0>)\n",
      "Mean:\n",
      " tensor([[9.9341e-09],\n",
      "        [0.0000e+00]], grad_fn=<MeanBackward1>)\n",
      "Variance:\n",
      " tensor([[1.0000],\n",
      "        [1.0000]], grad_fn=<VarBackward0>)\n"
     ]
    }
   ],
   "source": [
    "#归一化 \n",
    "out_norm = (out - mean) / torch.sqrt(var)\n",
    "mean = out_norm.mean(dim=-1, keepdim=True)\n",
    "var = out_norm.var(dim=-1, keepdim=True)\n",
    "print(\"Normalized layer outputs:\\n\", out_norm)\n",
    "print(\"Mean:\\n\", mean)\n",
    "print(\"Variance:\\n\", var)"
   ]
  },
  {
   "cell_type": "code",
   "execution_count": 16,
   "id": "2bec8e45-cf95-4adc-ac5b-3f4326da853a",
   "metadata": {},
   "outputs": [
    {
     "name": "stdout",
     "output_type": "stream",
     "text": [
      "Mean:\n",
      " tensor([[    0.0000],\n",
      "        [    0.0000]], grad_fn=<MeanBackward1>)\n",
      "Variance:\n",
      " tensor([[1.0000],\n",
      "        [1.0000]], grad_fn=<VarBackward0>)\n"
     ]
    }
   ],
   "source": [
    "#关闭tensor的科学计数法\n",
    "torch.set_printoptions(sci_mode=False)\n",
    "print(\"Mean:\\n\", mean)\n",
    "print(\"Variance:\\n\", var)"
   ]
  },
  {
   "cell_type": "markdown",
   "id": "f6256c52-4bf6-4f7d-b6d5-a1bd080cfe34",
   "metadata": {},
   "source": [
    "# LLM architecture 是由 归一化层 GELU激活层 前馈网络 和 短接连接\n",
    "# 归一化 \n",
    "归一化能够提高网络训练的稳定性和效率，核心思想是使网络激活输出均值调整为0.方差调整为1.这种调整可以加速权重的收敛速度，确保训练过程的一致性和稳定性。\n",
    "    加速权重的收敛：通过使每层输出均值为0，方差为1，可以减少输入在不同层次的偏差，从而加快模型权重的收敛速度。\n",
    "    避免梯度消失或爆炸：归一化可以保证各层的输入输出数据分布保持在较为稳定的范围内，这样反向传播过程中梯度也能保持稳定，避免梯度消失或爆炸现象的发生。\n",
    "    提高训练稳定性：归一化会使网络在不同层次的输入分布更为一致，这能够让网络在更新参数时保持稳定，而不至于在某些层上变化过大或过小。\n",
    "\n"
   ]
  },
  {
   "cell_type": "code",
   "execution_count": 8,
   "id": "3f4ad5e3-026d-4b25-ab2e-03c493064bd1",
   "metadata": {},
   "outputs": [],
   "source": [
    "#封装归一化层\n",
    "# Listing 4.2 A layer normalization class\n",
    "class LayerNorm(nn.Module):\n",
    "    def __init__(self, emb_dim):\n",
    "        super().__init__()\n",
    "        self.eps = 1e-5\n",
    "        self.scale = nn.Parameter(torch.ones(emb_dim))\n",
    "        self.shift = nn.Parameter(torch.zeros(emb_dim))\n",
    "\n",
    "    def forward(self, x):\n",
    "        mean = x.mean(dim=-1, keepdim=True)\n",
    "        var = x.var(dim=-1, keepdim=True, unbiased=False)\n",
    "        norm_x = (x - mean) / torch.sqrt(var + self.eps)\n",
    "        return self.scale * norm_x + self.shift\n",
    "#esp是一个小常数 防止出现除以0的错误\n",
    "#unbiased 这个参数设置是为了防止样本过少导致归一化过小，\n",
    "#当设置为true时方差为n-1个样本的，而设置为false的时候就为n个样本\n",
    "#LLM的样本数量较大所以不需要设置贝塞尔校正"
   ]
  },
  {
   "cell_type": "markdown",
   "id": "3791e45e-66ab-4e51-8d6e-9c5f01935a13",
   "metadata": {},
   "source": [
    "注：归一化虽然对训练过程有帮助，但单纯的归一化有时会过度约束网络的表达能力。也就是说，网络在归一化后，所有输出都会被固定在一个标准范围（均值为0，方差为1）内，这可能会限制模型的能力。\n",
    "为了保持网络的表达能力，我们可以在归一化后加入两个可学习的参数：\n",
    "缩放因子 \n",
    "𝛾：负责调整归一化后数据的“幅度”或“范围”，放大或缩小特征。\n",
    "偏移量 \n",
    "𝛽：负责调整归一化后数据的“位移”，平移整个特征的分布。"
   ]
  },
  {
   "cell_type": "code",
   "execution_count": 24,
   "id": "5623fba1-5ab4-491c-92d4-582e5d3e6bd0",
   "metadata": {},
   "outputs": [
    {
     "name": "stdout",
     "output_type": "stream",
     "text": [
      "tensor([[ 0.5528,  1.0693, -0.0223,  0.2656, -1.8654],\n",
      "        [ 0.9087, -1.3767, -0.9564,  1.1304,  0.2940]], grad_fn=<AddBackward0>)\n",
      "Mean:\n",
      " tensor([[    -0.0000],\n",
      "        [     0.0000]], grad_fn=<MeanBackward1>)\n",
      "Variance:\n",
      " tensor([[1.0000],\n",
      "        [1.0000]], grad_fn=<VarBackward0>)\n"
     ]
    }
   ],
   "source": [
    "ln = LayerNorm(emb_dim=5)\n",
    "out_ln = ln(batch_example)\n",
    "print(out_ln)\n",
    "mean = out_ln.mean(dim=-1, keepdim=True)\n",
    "var = out_ln.var(dim=-1, unbiased=False, keepdim=True)\n",
    "print(\"Mean:\\n\", mean)\n",
    "print(\"Variance:\\n\", var)"
   ]
  },
  {
   "cell_type": "code",
   "execution_count": 10,
   "id": "5a7fec50-fd7b-432e-b654-3b49c60218f3",
   "metadata": {},
   "outputs": [],
   "source": [
    "# 激活层 GELU函数 与 RELU相似\n",
    "# Listing 4.3 An implementation of the GELU activation function\n",
    "class GELU(nn.Module):\n",
    "    def __init__(self):\n",
    "        super().__init__()\n",
    "\n",
    "    def forward(self, x):\n",
    "        return 0.5 * x * (1 + torch.tanh(\n",
    "            torch.sqrt(torch.tensor(2.0 / torch.pi)) *\n",
    "            (x + 0.044715 * torch.pow(x, 3))\n",
    "        ))"
   ]
  },
  {
   "cell_type": "code",
   "execution_count": null,
   "id": "64346976-5bde-419f-9068-7360fa16a391",
   "metadata": {},
   "outputs": [],
   "source": [
    "%matplotlib inline\n",
    "import matplotlib.pyplot as plt\n",
    "gelu, relu = GELU(), nn.ReLU()\n",
    "\n",
    "x = torch.linspace(-3, 3, 50)                                          #A\n",
    "y_gelu, y_relu = gelu(x), relu(x)\n",
    "plt.figure(figsize=(8, 3))\n",
    "for i, (y, label) in enumerate(zip([y_gelu, y_relu], [\"GELU\", \"ReLU\"]), 1):\n",
    "    plt.subplot(1, 2, i)\n",
    "    plt.plot(x, y)\n",
    "    plt.title(f\"{label} activation function\")\n",
    "    plt.xlabel(\"x\")\n",
    "    plt.ylabel(f\"{label}(x)\")\n",
    "    plt.grid(True)\n",
    "plt.tight_layout()\n",
    "plt.show()\n",
    "\n",
    "#A 在 -3 到 3 的范围内生成 100 个样本数据点"
   ]
  },
  {
   "cell_type": "markdown",
   "id": "cf489926-2010-4f9d-b8df-0ad8493d99a7",
   "metadata": {},
   "source": [
    "相较于relu gelu在0值附近更加平滑，relu在0点的拐角在优化的时候会增加难度\n",
    "平滑的激活函数：GELU 在 0 附近的激活更平滑，避免了 ReLU 的不连续性，使得梯度更新更稳定。\n",
    "更好的梯度流动：GELU 保留了部分负输入的激活值，避免了 ReLU 的“死亡神经元”问题，使训练更加稳定。\n",
    "更适合复杂任务：GELU 更好的非线性表达能力，使其在复杂模型（如 NLP 的 Transformer 结构）中表现更好，特别是在 GPT、BERT 等大模型中。\n",
    "更强的表达能力：GELU 基于概率的激活方式，可以让模型更灵活地处理不同输入，从而有助于捕捉更加细腻的特征。"
   ]
  },
  {
   "cell_type": "code",
   "execution_count": 12,
   "id": "356a2538-2958-42b0-a23d-a71d5763855e",
   "metadata": {},
   "outputs": [],
   "source": [
    "# FeedForward网络模块 \n",
    "# Listing 4.4 A feed forward neural network module\n",
    "class FeedForward(nn.Module):\n",
    "    def __init__(self, cfg):\n",
    "        super().__init__()\n",
    "        self.layers = nn.Sequential(\n",
    "            nn.Linear(cfg[\"emb_dim\"], 4 * cfg[\"emb_dim\"]),\n",
    "            GELU(),\n",
    "            nn.Linear(4 * cfg[\"emb_dim\"], cfg[\"emb_dim\"]),\n",
    "        )\n",
    "\n",
    "    def forward(self, x):\n",
    "        return self.layers(x)"
   ]
  },
  {
   "cell_type": "code",
   "execution_count": 21,
   "id": "93f21610-6c48-4811-a4b4-066c57a3acc1",
   "metadata": {},
   "outputs": [
    {
     "name": "stdout",
     "output_type": "stream",
     "text": [
      "torch.Size([2, 3, 768])\n"
     ]
    }
   ],
   "source": [
    "ffn = FeedForward(GPT_CONFIG_124M)\n",
    "x = torch.rand(2, 3, 768)          #A\n",
    "out = ffn(x)\n",
    "print(out.shape)\n",
    "\n",
    "#A 创建一个 batch 大小为 2 的示例输入"
   ]
  },
  {
   "cell_type": "markdown",
   "id": "ad72ac73-8abc-48b5-8b8b-873e6dccdc54",
   "metadata": {},
   "source": [
    "可以将扩展和收缩的过程类比为一种数据解压缩与重新压缩的机制：\n",
    "先进行一层线性增维可以发掘更加隐藏的特征，然后在进行线性降维的到原始维度，但是新的输出中包括更多的上下文信息和特征"
   ]
  },
  {
   "cell_type": "markdown",
   "id": "76770af7-ad19-475d-9857-d64ae34842ef",
   "metadata": {},
   "source": [
    "#Shortcut connections 快捷连接\n",
    "解决梯度消失问题：当网络层数较多时，反向传播过程中梯度可能会逐渐减小，导致前面层的权重难以更新。快捷连接通过直接将梯度信息传递到浅层，有助于缓解梯度消失的问题，使深层网络更易于训练。\n",
    "促进特征传递：跳跃连接使得信息不仅能够经过多个层的非线性变换，还可以直接将输入层的原始特征传递到后面的层，这样后续层可以更好地利用早期层的特征，从而提高模型的表达能力。\n",
    "output（ｘ） = x +　layerout（ｘ）"
   ]
  },
  {
   "cell_type": "code",
   "execution_count": 23,
   "id": "9b6ba986-b979-49b0-8ae6-4017e50c2bce",
   "metadata": {},
   "outputs": [],
   "source": [
    "# Listing 4.5 A neural network to illustrate shortcut connections\n",
    "class ExampleDeepNeuralNetwork(nn.Module):\n",
    "    def __init__(self, layer_sizes, use_shortcut):\n",
    "        super().__init__()\n",
    "        self.use_shortcut = use_shortcut\n",
    "        self.layers = nn.ModuleList([\n",
    "            # Implement 5 layers\n",
    "            nn.Sequential(nn.Linear(layer_sizes[0], layer_sizes[1]), GELU()),\n",
    "            nn.Sequential(nn.Linear(layer_sizes[1], layer_sizes[2]), GELU()),\n",
    "            nn.Sequential(nn.Linear(layer_sizes[2], layer_sizes[3]), GELU()),\n",
    "            nn.Sequential(nn.Linear(layer_sizes[3], layer_sizes[4]), GELU()),\n",
    "            nn.Sequential(nn.Linear(layer_sizes[4], layer_sizes[5]), GELU())\n",
    "        ])\n",
    "\n",
    "    def forward(self, x):\n",
    "        for layer in self.layers:\n",
    "            # Compute the output of the current layer\n",
    "            layer_output = layer(x)\n",
    "            # Check if shortcut can be applied\n",
    "            if self.use_shortcut and x.shape == layer_output.shape:\n",
    "                x = x + layer_output\n",
    "            else:\n",
    "                x = layer_output\n",
    "        return x"
   ]
  },
  {
   "cell_type": "markdown",
   "id": "c57b8548-1c6d-41ef-9078-93efe0a6ac12",
   "metadata": {},
   "source": [
    "# ModuleList 和 Sequential 的区别 \n",
    "ModuleList本质上是存储nn.Module的有序列表，不拥有forward的前传逻辑，适合需要灵活的控制前传时使用，例如循环或者if动态选择不同层时\n",
    "Sequential时一种有序容器，当执行forward时会按照顺序前传每一个子模块"
   ]
  },
  {
   "cell_type": "code",
   "execution_count": 37,
   "id": "bf6d94da-3d05-4d26-8f5d-fd4038817957",
   "metadata": {},
   "outputs": [],
   "source": [
    "layer_sizes = [3,3,3,3,3,1]\n",
    "input = torch.tensor([[1.,0.,-1.]])\n",
    "torch.manual_seed(123)\n",
    "model_without_shortcut = ExampleDeepNeuralNetwork(layer_sizes, use_shortcut=False)"
   ]
  },
  {
   "cell_type": "code",
   "execution_count": 39,
   "id": "e465fe3e-057e-4d86-a419-15b7f46e0ebf",
   "metadata": {},
   "outputs": [
    {
     "name": "stdout",
     "output_type": "stream",
     "text": [
      "layers.0.0.weight has gradient mean of 0.00020173587836325169\n",
      "layers.1.0.weight has gradient mean of 0.0001201116101583466\n",
      "layers.2.0.weight has gradient mean of 0.0007152041653171182\n",
      "layers.3.0.weight has gradient mean of 0.001398873864673078\n",
      "layers.4.0.weight has gradient mean of 0.005049646366387606\n"
     ]
    }
   ],
   "source": [
    "def print_gradients(model, x):\n",
    "    # Forward pass\n",
    "    output = model(x)\n",
    "    target = torch.tensor([[0.]])\n",
    "\n",
    "    # Calculate loss based on how close the target\n",
    "    # and output are\n",
    "    loss = nn.MSELoss()\n",
    "    loss = loss(output, target)\n",
    "\n",
    "    # Backward pass to calculate the gradients\n",
    "    loss.backward()\n",
    "\n",
    "    for name, param in model.named_parameters():\n",
    "        if 'weight' in name:\n",
    "            # Print the mean absolute gradient of the weights\n",
    "            print(f\"{name} has gradient mean of {param.grad.abs().mean().item()}\")\n",
    "print_gradients(model_without_shortcut,input)"
   ]
  },
  {
   "cell_type": "code",
   "execution_count": 43,
   "id": "a9bbb748-766b-4bed-8d8d-cbc32c41e157",
   "metadata": {},
   "outputs": [
    {
     "name": "stdout",
     "output_type": "stream",
     "text": [
      "layers.0.0.weight has gradient mean of 0.22169792652130127\n",
      "layers.1.0.weight has gradient mean of 0.20694106817245483\n",
      "layers.2.0.weight has gradient mean of 0.32896995544433594\n",
      "layers.3.0.weight has gradient mean of 0.2665732502937317\n",
      "layers.4.0.weight has gradient mean of 1.3258541822433472\n"
     ]
    }
   ],
   "source": [
    "#梯度在后传过程中逐渐减小这就是梯度消失问题\n",
    "#接下来我们激活shortcut connect\n",
    "torch.manual_seed(123)\n",
    "model_with_shortcut = ExampleDeepNeuralNetwork(\n",
    "    layer_sizes, use_shortcut=True\n",
    ")\n",
    "print_gradients(model_with_shortcut, input)"
   ]
  },
  {
   "cell_type": "markdown",
   "id": "6aa0dfc1-9701-485e-bd90-83c4db62dccf",
   "metadata": {},
   "source": [
    "![Alt Text](https://github.com/skindhu/Build-A-Large-Language-Model-CN/blob/main/Image/chapter4/figure4.13.png)"
   ]
  },
  {
   "cell_type": "code",
   "execution_count": 14,
   "id": "9c89fdb0-b4e1-4814-9d30-874534f19555",
   "metadata": {},
   "outputs": [],
   "source": [
    "#上面的MultiHeadAttention是将并行的结果进行拼接，而接下来\n",
    "# 的这种是将结果进行乘积也就是将张量结果组合在一起\n",
    "# Listing 3.5 An efficient multi-head attention class\n",
    "class MultiHeadAttention(nn.Module):\n",
    "    def __init__(self, d_in, d_out, context_length, dropout, num_heads, qkv_bias=False):\n",
    "        super().__init__()\n",
    "        assert d_out % num_heads == 0, \"d_out must be divisible by num_heads\"\n",
    "        self.d_out = d_out\n",
    "        self.num_heads = num_heads\n",
    "        self.head_dim = d_out // num_heads                        #A\n",
    "        self.W_query = nn.Linear(d_in, d_out, bias=qkv_bias)\n",
    "        self.W_key = nn.Linear(d_in, d_out, bias=qkv_bias)\n",
    "        self.W_value = nn.Linear(d_in, d_out, bias=qkv_bias)\n",
    "        self.out_proj = nn.Linear(d_out, d_out)                   #B\n",
    "        self.dropout = nn.Dropout(dropout)\n",
    "        self.register_buffer(\n",
    "            'mask',\n",
    "             torch.triu(torch.ones(context_length, context_length), diagonal=1)\n",
    "        )\n",
    "\n",
    "\n",
    "    def forward(self, x):\n",
    "        b, num_tokens, d_in = x.shape\n",
    "        keys = self.W_key(x)                                      #C\n",
    "        queries = self.W_query(x)                                 #C\n",
    "        values = self.W_value(x)                                  #C\n",
    "\n",
    "        keys = keys.view(b, num_tokens, self.num_heads, self.head_dim)       #D\n",
    "        values = values.view(b, num_tokens, self.num_heads, self.head_dim)   #D\n",
    "        queries = queries.view(b, num_tokens, self.num_heads, self.head_dim) #D\n",
    "\n",
    "        keys = keys.transpose(1, 2)                               #E\n",
    "        queries = queries.transpose(1, 2)                         #E\n",
    "        values = values.transpose(1, 2)                           #E\n",
    "\n",
    "        attn_scores = queries @ keys.transpose(2, 3)              #F\n",
    "        mask_bool = self.mask.bool()[:num_tokens, :num_tokens]    #G\n",
    "\n",
    "        attn_scores.masked_fill_(mask_bool, -torch.inf)           #H\n",
    "\n",
    "        attn_weights = torch.softmax(\n",
    "            attn_scores / keys.shape[-1]**0.5, dim=-1)\n",
    "        attn_weights = self.dropout(attn_weights)\n",
    "\n",
    "        context_vec = (attn_weights @ values).transpose(1, 2)     #I\n",
    "\n",
    "        context_vec = context_vec.contiguous().view(b, num_tokens, self.d_out)  #J\n",
    "        context_vec = self.out_proj(context_vec)                  #K\n",
    "        return context_vec\n",
    "\n",
    "\n",
    "#A 将投影维度缩小，以匹配期望的输出维度\n",
    "#B 使用线性层组合头部输出\n",
    "#C 张量形状：(b, num_tokens, d_out)\n",
    "#D 我们通过添加 num_heads 维度来隐式地拆分矩阵。然后展开最后一个维度，使其形状从 (b, num_tokens, d_out) 转换为 (b, num_tokens, num_heads, head_dim)\n",
    "#E 将张量的形状从 (b, num_tokens, num_heads, head_dim) 转置为 (b, num_heads, num_tokens, head_dim)\n",
    "#F 对每个注意力头进行点积运算\n",
    "#G 掩码被截断到 token 的数量\n",
    "#H 使用掩码填充注意力分数\n",
    "#I 张量形状：（b, num_tokens, n_heads, head_dim）\n",
    "#J 将多个注意力头的输出结果合并，其中输出维度 self.d_out 等于注意力头数 self.num_heads 与每个头的维度 self.head_dim 的乘积\n",
    "#K 添加一个可选的线性投影层"
   ]
  },
  {
   "cell_type": "code",
   "execution_count": 16,
   "id": "5d1cef9d-ee5e-4b69-a2ad-24cb458f3f65",
   "metadata": {},
   "outputs": [],
   "source": [
    "class TransformerBlock(nn.Module):\n",
    "    def __init__(self, cfg):\n",
    "        super().__init__()\n",
    "        self.att = MultiHeadAttention(\n",
    "        d_in=cfg[\"emb_dim\"],\n",
    "        d_out=cfg[\"emb_dim\"],\n",
    "        context_length=cfg[\"context_length\"],\n",
    "        num_heads=cfg[\"n_heads\"],\n",
    "        dropout=cfg[\"drop_rate\"],\n",
    "        qkv_bias=cfg[\"qkv_bias\"])\n",
    "        self.ff = FeedForward(cfg)\n",
    "        self.norm1 = LayerNorm(cfg[\"emb_dim\"])\n",
    "        self.norm2 = LayerNorm(cfg[\"emb_dim\"])\n",
    "        self.drop_shortcut = nn.Dropout(cfg[\"drop_rate\"])\n",
    "\n",
    "    def forward(self, x):\n",
    "        shortcut = x                                          #A\n",
    "        x = self.norm1(x)\n",
    "        x = self.att(x)\n",
    "        x = self.drop_shortcut(x)\n",
    "        x = x + shortcut  # Add the original input back\n",
    "        shortcut = x                                          #B\n",
    "        x = self.norm2(x)\n",
    "        x = self.ff(x)\n",
    "        x = self.drop_shortcut(x)\n",
    "        x = x + shortcut                                       #C\n",
    "        return x\n",
    "\n",
    "\n",
    "#A 注意力模块中的快捷连接\n",
    "#B 前馈网络模块中的快捷链接\n",
    "#C 将原始输入加回到输出中"
   ]
  },
  {
   "cell_type": "code",
   "execution_count": 61,
   "id": "4dccfaa4-2024-46d9-9b58-42f488633e82",
   "metadata": {},
   "outputs": [
    {
     "name": "stdout",
     "output_type": "stream",
     "text": [
      "Input shape: torch.Size([2, 4, 768])\n",
      "Output shape: torch.Size([2, 4, 768])\n"
     ]
    }
   ],
   "source": [
    "torch.manual_seed(123)\n",
    "x = torch.rand(2, 4, 768)                    #A\n",
    "block = TransformerBlock(GPT_CONFIG_124M)\n",
    "output = block(x)\n",
    "\n",
    "print(\"Input shape:\", x.shape)\n",
    "print(\"Output shape:\", output.shape)\n",
    "\n",
    "#A 建一个形状为 [batch_size, num_tokens, emb_dim] 的输入张量"
   ]
  },
  {
   "cell_type": "markdown",
   "id": "1e5da5a8-2cdf-4ffe-b2e6-0c3f0a8bbf12",
   "metadata": {},
   "source": [
    "这个神经网络有一个设计巧妙之处，就是整个结构中始终保持形状不发生改变，之所以这样设计，是因为多头注意力模块中的自注意力机制用于识别和分析输入序列中各元素之间的关系，而前馈神经网络则对输入序列中每个位置的数据单独进行修改。这种组合不仅能够更细致地理解和处理输入信息，还增强了模型处理复杂数据模式的整体能力。而且这种设计有个好处就是擅长处理各种序列到序列的任务，处理后的向量虽然还是原来维度但是包含了丰富的上下文信息。"
   ]
  },
  {
   "cell_type": "code",
   "execution_count": 18,
   "id": "93221bc9-4c99-4489-8ca8-5ee5a337e4e7",
   "metadata": {},
   "outputs": [],
   "source": [
    "class GPTModel(nn.Module):\n",
    "    def __init__(self, cfg):\n",
    "        super().__init__()\n",
    "        self.tok_emb = nn.Embedding(cfg[\"vocab_size\"], cfg[\"emb_dim\"])\n",
    "        self.pos_emb = nn.Embedding(cfg[\"context_length\"], cfg[\"emb_dim\"])\n",
    "        self.drop_emb = nn.Dropout(cfg[\"drop_rate\"])\n",
    "\n",
    "        self.trf_blocks = nn.Sequential(\n",
    "            *[TransformerBlock(cfg) for _ in range(cfg[\"n_layers\"])])\n",
    "\n",
    "        self.final_norm = LayerNorm(cfg[\"emb_dim\"])\n",
    "        self.out_head = nn.Linear(\n",
    "            cfg[\"emb_dim\"], cfg[\"vocab_size\"], bias=False\n",
    "        )\n",
    "\n",
    "    def forward(self, in_idx):\n",
    "        batch_size, seq_len = in_idx.shape\n",
    "        tok_embeds = self.tok_emb(in_idx)\n",
    "\n",
    "        pos_embeds = self.pos_emb(torch.arange(seq_len, device=in_idx.device))      #A\n",
    "        x = tok_embeds + pos_embeds\n",
    "        x = self.drop_emb(x)\n",
    "        x = self.trf_blocks(x)\n",
    "        x = self.final_norm(x)\n",
    "        logits = self.out_head(x)\n",
    "        return logits\n",
    "\n",
    " #A 设备设置将根据输入数据所在的位置选择在 CPU 或 GPU 上训练模型"
   ]
  },
  {
   "cell_type": "code",
   "execution_count": 20,
   "id": "f15bc7f9-56c0-4690-81ed-0de2e8a0f64e",
   "metadata": {},
   "outputs": [
    {
     "name": "stdout",
     "output_type": "stream",
     "text": [
      "Input batch:\n",
      " tensor([[6109, 3626, 6100,  345],\n",
      "        [6109, 1110, 6622,  257]])\n",
      "\n",
      "Output shape: torch.Size([2, 4, 50257])\n",
      "tensor([[[ 0.1381,  0.0077, -0.1963,  ..., -0.0222, -0.1060,  0.1717],\n",
      "         [ 0.3865, -0.8408, -0.6564,  ..., -0.5163,  0.2369, -0.3357],\n",
      "         [ 0.6989, -0.1829, -0.1631,  ...,  0.1472, -0.6504, -0.0056],\n",
      "         [-0.4290,  0.1669, -0.1258,  ...,  1.1579,  0.5303, -0.5549]],\n",
      "\n",
      "        [[ 0.1094, -0.2894, -0.1467,  ..., -0.0557,  0.2911, -0.2824],\n",
      "         [ 0.0882, -0.3552, -0.3527,  ...,  1.2930,  0.0053,  0.1898],\n",
      "         [ 0.6091,  0.4702, -0.4094,  ...,  0.7688,  0.3787, -0.1974],\n",
      "         [-0.0612, -0.0737,  0.4751,  ...,  1.2463, -0.3834,  0.0609]]],\n",
      "       grad_fn=<UnsafeViewBackward0>)\n"
     ]
    }
   ],
   "source": [
    "torch.manual_seed(123)\n",
    "model = GPTModel(GPT_CONFIG_124M)\n",
    "\n",
    "out = model(batch)\n",
    "print(\"Input batch:\\n\", batch)\n",
    "print(\"\\nOutput shape:\", out.shape)\n",
    "print(out)"
   ]
  },
  {
   "cell_type": "code",
   "execution_count": 22,
   "id": "6ae644e8-626b-4651-94c4-4f606b63a997",
   "metadata": {},
   "outputs": [
    {
     "name": "stdout",
     "output_type": "stream",
     "text": [
      "Total number of parameters: 163,009,536\n"
     ]
    }
   ],
   "source": [
    "total_params = sum(p.numel() for p in model.parameters())\n",
    "print(f\"Total number of parameters: {total_params:,}\")"
   ]
  },
  {
   "cell_type": "code",
   "execution_count": 26,
   "id": "d196fef0-b10b-407a-93b7-b20cbcfa5420",
   "metadata": {},
   "outputs": [
    {
     "name": "stdout",
     "output_type": "stream",
     "text": [
      "Token embedding layer shape: torch.Size([50257, 768])\n",
      "Output layer shape: torch.Size([50257, 768])\n",
      "Number of trainable parameters considering weight tying: 124,412,160\n"
     ]
    }
   ],
   "source": [
    "#事实上GPT2的参数只有1.24亿，之所以这里参数数量较多的原因是GPT架构中使用了参数共享\n",
    "#GPT2将嵌入层的参数共享给输出层\n",
    "print(\"Token embedding layer shape:\", model.tok_emb.weight.shape)\n",
    "print(\"Output layer shape:\", model.out_head.weight.shape)\n",
    "total_params_gpt2 = total_params - sum(p.numel() for p in model.out_head.parameters())\n",
    "print(f\"Number of trainable parameters considering weight tying: {total_params_gpt2:,}\")"
   ]
  },
  {
   "cell_type": "markdown",
   "id": "e9a446e8-04c8-40a3-ad1f-f51657cd0038",
   "metadata": {},
   "source": [
    "练习 4.1 前馈网络和注意力模块的参数数量\n",
    "\n",
    "计算并比较前馈模块和多头注意力模块中包含的参数数量。"
   ]
  },
  {
   "cell_type": "markdown",
   "id": "b57918c7-d843-4166-bcf8-771bcf9b7a3a",
   "metadata": {},
   "source": [
    "# 生成文本\n",
    "当经过线性输出层处理后，将会输出预测句子的向量矩阵，我们需要通过矩阵的最后一行的向量，将该上下文向量生成对应的文字。 \n",
    "原理非常简单，就是将最后一行向量进行softmax处理，然后根据该向量中概率最高索引对应的单词就是预测结果"
   ]
  },
  {
   "cell_type": "code",
   "execution_count": 51,
   "id": "1e66e850-bf3f-47e8-a43e-72d1f4ac90ac",
   "metadata": {},
   "outputs": [],
   "source": [
    "# Listing 4.8 A function for the GPT model to generate text\n",
    "def generate_text_simple(model, idx, max_new_tokens, context_size): #A\n",
    "    for _ in range(max_new_tokens):\n",
    "        idx_cond = idx[:, -context_size:]                           #B\n",
    "        with torch.no_grad():\n",
    "           logits = model(idx_cond)\n",
    "\n",
    "        logits = logits[:, -1, :]                                   #C\n",
    "        probas = torch.softmax(logits, dim=-1)                      #D\n",
    "        idx_next = torch.argmax(probas, dim=-1, keepdim=True)       #E\n",
    "        #其实softmax最大概率值与源向量组最大值的索引是一样实际上softmax是多余的操作\n",
    "        idx = torch.cat((idx, idx_next), dim=1)                     #F\n",
    "\n",
    "    return idx\n",
    "\n",
    "\n",
    "#A idx 是当前上下文中索引的数组，形状为 (batch, n_tokens)\n",
    "#B 若上下文长度超出支持范围，则进行裁剪。例如，若模型仅支持 5 个 token，而上下文长度为 10，仅使用最后 5 个 token 作为上下文\n",
    "#C 仅关注最后一个时间步，将形状从 (batch, n_token, vocab_size) 转换为 (batch, vocab_size)\n",
    "#D probas 的形状为 (batch, vocab_size)\n",
    "#E idx_next 的形状为 (batch, 1)\n",
    "#F 将采样的索引追加到当前序列中，此时 idx 的形状为 (batch, n_tokens+1)"
   ]
  },
  {
   "cell_type": "code",
   "execution_count": 55,
   "id": "40319219-d042-4e1e-b1b4-fd6173b40182",
   "metadata": {},
   "outputs": [
    {
     "name": "stdout",
     "output_type": "stream",
     "text": [
      "encoded: [15496, 11, 314, 716]\n",
      "encoded_tensor.shape: torch.Size([1, 4])\n",
      "Output: tensor([[15496,    11,   314,   716, 27018, 24086, 47843, 30961, 42348,  7267]])\n",
      "Output length: 10\n",
      "Hello, I am Featureiman Byeswickattribute argue\n"
     ]
    }
   ],
   "source": [
    "start_context = \"Hello, I am\"\n",
    "encoded = tokenizer.encode(start_context)\n",
    "print(\"encoded:\", encoded)\n",
    "encoded_tensor = torch.tensor(encoded).unsqueeze(0)            #A\n",
    "print(\"encoded_tensor.shape:\", encoded_tensor.shape)\n",
    "\n",
    "#A  添加批次维度\n",
    "model.eval()             #A\n",
    "out = generate_text_simple(\n",
    "    model=model,\n",
    "    idx=encoded_tensor,\n",
    "    max_new_tokens=6,\n",
    "    context_size=GPT_CONFIG_124M[\"context_length\"]\n",
    ")\n",
    "print(\"Output:\", out)\n",
    "print(\"Output length:\", len(out[0]))\n",
    "decoded_text = tokenizer.decode(out.squeeze(0).tolist())\n",
    "print(decoded_text)\n",
    "\n",
    "#A 禁用 dropout，因为当前不是在训练模型"
   ]
  },
  {
   "cell_type": "markdown",
   "id": "4126d265-cfdb-4a82-9a02-fe836205fc88",
   "metadata": {},
   "source": [
    "# 之所以这里的输出内容毫无意义，原因是我们还没有训练神经网络中的参数权重，这里的输出只是基于随机初始化的参数权重计算出来的\n",
    "model .train() 函数 和 .eval()函数区别\n",
    "model.eval()用于将模型设置为评估模式。这尤其重要，因为某些层（如 dropout 和 batch normalization）在训练和评估期间的表现不同。\n",
    "在训练模式（model.train()）中，dropout 层会根据 dropout 概率随机丢弃一些神经元。\n",
    "在评估模式（model.eval()）下，dropout 被禁用，并且所有神经元都被使用。\n",
    "因为没有进行正则化，评估模式能够保证结果的确定性和一致性，此外评估模式可以使用torch.no_grad，取消梯度的计算加快计算速度\n"
   ]
  }
 ],
 "metadata": {
  "kernelspec": {
   "display_name": "Python [conda env:base] *",
   "language": "python",
   "name": "conda-base-py"
  },
  "language_info": {
   "codemirror_mode": {
    "name": "ipython",
    "version": 3
   },
   "file_extension": ".py",
   "mimetype": "text/x-python",
   "name": "python",
   "nbconvert_exporter": "python",
   "pygments_lexer": "ipython3",
   "version": "3.12.7"
  }
 },
 "nbformat": 4,
 "nbformat_minor": 5
}
