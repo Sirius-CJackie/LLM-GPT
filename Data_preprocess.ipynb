{
 "cells": [
  {
   "cell_type": "markdown",
   "id": "b3c7f927-af23-48dd-9841-947bccf86c0d",
   "metadata": {},
   "source": [
    "##单词嵌入，作为GPT的数据处理关键技术，本质是将文字非数值数据转换成张量。"
   ]
  },
  {
   "cell_type": "code",
   "execution_count": 2,
   "id": "e36f5c95-74b9-4158-99bf-448f055fc753",
   "metadata": {},
   "outputs": [
    {
     "name": "stdout",
     "output_type": "stream",
     "text": [
      "The number of character: 21941\n"
     ]
    }
   ],
   "source": [
    "with open(\"The_Verdict.txt\",\"r\",encoding=\"utf-8\") as f:\n",
    "    raw_text = f.read()\n",
    "print(\"The number of character:\",len(raw_text))\n"
   ]
  },
  {
   "cell_type": "markdown",
   "id": "26030909-3ed9-41a0-a0ef-5f112c130c70",
   "metadata": {},
   "source": [
    "##制作token\n",
    "第一步：分词"
   ]
  },
  {
   "cell_type": "code",
   "execution_count": 4,
   "id": "3bb37557-b41d-4356-90eb-6277c73b2520",
   "metadata": {},
   "outputs": [
    {
     "name": "stdout",
     "output_type": "stream",
     "text": [
      "['The', 'Verdict', 'Edith', 'Wharton', '1908', 'Exported', 'from', 'Wikisource', 'on', 'February']\n"
     ]
    }
   ],
   "source": [
    "import re\n",
    "preprocessed = re.split(r'([,.:;?_!\"()\\']|--|\\s)',raw_text)\n",
    "preprocessed = [item.strip() for item in preprocessed if item.strip()]\n",
    "print(preprocessed[:10])"
   ]
  },
  {
   "cell_type": "markdown",
   "id": "1c18fa40-69c3-420c-a04b-d8edb55ea372",
   "metadata": {},
   "source": [
    "第二步：制做token ID "
   ]
  },
  {
   "cell_type": "code",
   "execution_count": 6,
   "id": "24f6d6eb-c20d-4161-82c7-fd56a8bafdc9",
   "metadata": {},
   "outputs": [
    {
     "name": "stdout",
     "output_type": "stream",
     "text": [
      "1235\n",
      "('The', 4897)\n",
      "('Verdict', 1)\n",
      "('Edith', 2)\n",
      "('Wharton', 3)\n",
      "('1908', 4)\n",
      "('Exported', 5)\n",
      "('from', 4810)\n",
      "('Wikisource', 4862)\n",
      "('on', 4651)\n",
      "('February', 9)\n",
      "('14', 10)\n",
      "(',', 4878)\n"
     ]
    }
   ],
   "source": [
    "vocab = {token: index for index , token in enumerate(preprocessed)} \n",
    "print(len(vocab))\n",
    "for i, item in enumerate(vocab.items()): \n",
    "    print(item) \n",
    "    if i > 10: break"
   ]
  },
  {
   "cell_type": "markdown",
   "id": "a35e5c05-cbba-43cd-9840-4456309fbaca",
   "metadata": {},
   "source": [
    "不仅需要encode还需要decode，所以还需要一个id转换成token的函数"
   ]
  },
  {
   "cell_type": "code",
   "execution_count": 8,
   "id": "1a1124b3-c507-4528-8992-362b18f1f6ff",
   "metadata": {},
   "outputs": [],
   "source": [
    "class SimpleTokenizerV1:\n",
    "    def __init__(self, vocab):\n",
    "        self.str_to_int = vocab                                                   #A\n",
    "        self.int_to_str = {i:s for s,i in vocab.items()}                          #B\n",
    "\n",
    "    def encode(self, text):                                                       #C\n",
    "        preprocessed = re.split(r'([,.?_!\"()\\']|--|\\s)', text)\n",
    "        preprocessed = [item.strip() for item in preprocessed if item.strip()]\n",
    "        ids = [self.str_to_int[s] for s in preprocessed]\n",
    "        return ids\n",
    "\n",
    "    def decode(self, ids):                                                        #D\n",
    "        text = \" \".join([self.int_to_str[i] for i in ids])\n",
    "        ##\"\".jion 函数会在拼接时加入空格所以需要使用sub()去除空格\n",
    "        text = re.sub(r'\\s+([,.?!\"()\\'])', r'\\1', text)                           #E\n",
    "        return text\n"
   ]
  },
  {
   "cell_type": "code",
   "execution_count": 9,
   "id": "1b1cc1ee-c2c6-4192-9fca-634d9a83d832",
   "metadata": {},
   "outputs": [
    {
     "name": "stdout",
     "output_type": "stream",
     "text": [
      "[4702, 4422, 4880, 4881, 4871, 3883, 4619, 4521, 4878, 4334, 4236, 4878, 4702, 4491, 4896, 2936, 4396, 4739, 1981, 2193, 4896]\n",
      "\" It' s the last he painted, you know,\" Mrs. Gisburn said with pardonable pride.\n"
     ]
    }
   ],
   "source": [
    "tokenizer = SimpleTokenizerV1(vocab)\n",
    "text = \"\"\"\"It's the last he painted, you know,\" Mrs. Gisburn said with pardonable pride.\"\"\"\n",
    "ids = tokenizer.encode(text)\n",
    "print(ids)\n",
    "text = tokenizer.decode(ids)\n",
    "print(text)"
   ]
  },
  {
   "cell_type": "markdown",
   "id": "55769d27-a6af-4a72-bc70-e77f38a31029",
   "metadata": {},
   "source": [
    "我们需要添加两个特殊的token \n",
    "<|unk|>：该单词不在词汇表中\n",
    "<|endoftext|>：用来连接不同来源的文本"
   ]
  },
  {
   "cell_type": "code",
   "execution_count": 11,
   "id": "867030e3-7306-4f9c-8980-49fd9ecb7789",
   "metadata": {},
   "outputs": [
    {
     "name": "stdout",
     "output_type": "stream",
     "text": [
      "1237\n",
      "('younger', 1232)\n",
      "('your', 1233)\n",
      "('yourself', 1234)\n",
      "('<|endoftext|>', 1235)\n",
      "('<|unk|>', 1236)\n"
     ]
    }
   ],
   "source": [
    "all_tokens = sorted(list(set(preprocessed)))\n",
    "all_tokens.extend([\"<|endoftext|>\", \"<|unk|>\"])\n",
    "vocab = {token:integer for integer,token in enumerate(all_tokens)}\n",
    "print(len(vocab))\n",
    "for i, item in enumerate(list(vocab.items())[-5:]):\n",
    "  \tprint(item)\n"
   ]
  },
  {
   "cell_type": "code",
   "execution_count": 12,
   "id": "74bd521d-9118-4895-aca2-b08067f511bb",
   "metadata": {},
   "outputs": [],
   "source": [
    "# Listing 2.4 A simple text tokenizer that handles unknown words\n",
    "class SimpleTokenizerV2:\n",
    "    def __init__(self, vocab):\n",
    "        self.str_to_int = vocab\n",
    "        self.int_to_str = { i:s for s,i in vocab.items()}\n",
    "\n",
    "    def encode(self, text):\n",
    "        preprocessed = re.split(r'([,.?_!\"()\\']|--|\\s)', text)\n",
    "        preprocessed = [item.strip() for item in preprocessed if item.strip()]\n",
    "        preprocessed = [item if item in self.str_to_int                    #A\n",
    "                        else \"<|unk|>\" for item in preprocessed]\n",
    "\n",
    "        ids = [self.str_to_int[s] for s in preprocessed]\n",
    "        return ids\n",
    "\n",
    "    def decode(self, ids):\n",
    "        text = \" \".join([self.int_to_str[i] for i in ids])\n",
    "\n",
    "        text = re.sub(r'\\s+([,.?!\"()\\'])', r'\\1', text)                    #B\n",
    "        return text"
   ]
  },
  {
   "cell_type": "code",
   "execution_count": 13,
   "id": "ae16d2d2-1fb4-4f1c-bd52-d07c393bc792",
   "metadata": {},
   "outputs": [
    {
     "name": "stdout",
     "output_type": "stream",
     "text": [
      "[1236, 1236, 6, 1098, 661, 164, 1236, 1236]\n",
      "<|unk|> <|unk|>, this is a <|unk|> <|unk|>\n"
     ]
    }
   ],
   "source": [
    "tokenizer = SimpleTokenizerV2(vocab)\n",
    "text = \"hello world, this is a simple tokenizer\"\n",
    "ids = tokenizer.encode(text)\n",
    "print(ids)\n",
    "text = tokenizer.decode(ids)\n",
    "print(text)"
   ]
  },
  {
   "cell_type": "markdown",
   "id": "f4d8be4c-10ad-4928-a817-53e08a8535a6",
   "metadata": {},
   "source": [
    "更加复杂的编码方式，Byte pair encoding是用于GPT2,GPT3早期的编码方案,BPE说白了就是将单词拆开为高频字母对，这样就可以提高encoding的单词表，在训练的时候即使遇到陌生词也会根据单词构造例如词根进行猜测词义"
   ]
  },
  {
   "cell_type": "code",
   "execution_count": 23,
   "id": "8084be44-3a11-4500-ae35-184c4cd14b5d",
   "metadata": {},
   "outputs": [],
   "source": [
    "#!pip install tiktoken\n",
    "import tiktoken ##version:0.9.0"
   ]
  },
  {
   "cell_type": "code",
   "execution_count": 16,
   "id": "dfe54fb9-2985-408f-a744-918e377c5de0",
   "metadata": {},
   "outputs": [
    {
     "name": "stdout",
     "output_type": "stream",
     "text": [
      "[15496, 11, 466, 345, 588, 8887, 30, 220, 50256, 554, 262, 4252, 18250, 8812, 2114, 286, 617, 34680, 27271, 13]\n"
     ]
    }
   ],
   "source": [
    "tokenizer = tiktoken.get_encoding(\"gpt2\")##this encoding is samilar V2\n",
    "text = \"Hello, do you like tea? <|endoftext|> In the sunlit terraces of someunknownPlace.\"\n",
    "ids = tokenizer.encode(text, allowed_special={\"<|endoftext|>\"})\n",
    "print(ids)"
   ]
  },
  {
   "cell_type": "code",
   "execution_count": 17,
   "id": "17ac0731-6b32-47b0-aedd-e80189224c3a",
   "metadata": {},
   "outputs": [
    {
     "name": "stdout",
     "output_type": "stream",
     "text": [
      "Hello, do you like tea? <|endoftext|> In the sunlit terraces of someunknownPlace.\n"
     ]
    }
   ],
   "source": [
    "text = tokenizer.decode(ids)\n",
    "print(text)"
   ]
  },
  {
   "cell_type": "markdown",
   "id": "5222e74e-45dd-4b46-8ec6-b2bc7e6d8d68",
   "metadata": {},
   "source": [
    "滑动窗口取样 这个技术就是在生成的token的训练数据集上提取input-target pair 的技术"
   ]
  },
  {
   "cell_type": "code",
   "execution_count": 19,
   "id": "92bca3a6-5a07-42f3-87fb-544110453f96",
   "metadata": {},
   "outputs": [
    {
     "name": "stdout",
     "output_type": "stream",
     "text": [
      "5560\n"
     ]
    }
   ],
   "source": [
    "enc_text = tokenizer.encode(raw_text)\n",
    "print(len(enc_text))"
   ]
  },
  {
   "cell_type": "code",
   "execution_count": 20,
   "id": "efcb5a40-7d53-467a-8d58-e678a67e2e78",
   "metadata": {},
   "outputs": [
    {
     "name": "stdout",
     "output_type": "stream",
     "text": [
      "x: [7026, 15632, 438, 2016]\n",
      "y:      [15632, 438, 2016, 257]\n",
      "[7026] ----> 15632\n",
      "[7026, 15632] ----> 438\n",
      "[7026, 15632, 438] ----> 2016\n",
      "[7026, 15632, 438, 2016] ----> 257\n",
      " cheap ---->  genius\n",
      " cheap genius ----> --\n",
      " cheap genius-- ----> though\n",
      " cheap genius--though ---->  a\n"
     ]
    }
   ],
   "source": [
    "enc_sample = enc_text[50:]\n",
    "context_size = 4                    #A\n",
    "x = enc_sample[:context_size]\n",
    "y = enc_sample[1:context_size+1]\n",
    "print(f\"x: {x}\")\n",
    "print(f\"y:      {y}\")\n",
    "for i in range(1, context_size+1):\n",
    "    context = enc_sample[:i]\n",
    "    desired = enc_sample[i]\n",
    "    print(context, \"---->\", desired)\n",
    "for i in range(1, context_size+1):\n",
    "    context = enc_sample[:i]\n",
    "    desired = enc_sample[i]\n",
    "    print(tokenizer.decode(context), \"---->\", tokenizer.decode([desired]))"
   ]
  },
  {
   "cell_type": "markdown",
   "id": "e4345b34-5652-4177-8295-507a2d2ace0f",
   "metadata": {},
   "source": [
    "接下来我们需要补充一点pytorch的相关知识，tensor和dataset数据类型\n",
    "dataset 是用来储存特征-标签的数据类型\n",
    "dataloader 是用来将dataset制作成batch用于模型训练"
   ]
  },
  {
   "cell_type": "code",
   "execution_count": 22,
   "id": "05196a44-ac81-4f69-b172-1c371518b81f",
   "metadata": {},
   "outputs": [
    {
     "name": "stdout",
     "output_type": "stream",
     "text": [
      "Requirement already satisfied: torch in c:\\users\\lenovo\\anaconda3\\lib\\site-packages (2.6.0)\n",
      "Requirement already satisfied: torchvision in c:\\users\\lenovo\\anaconda3\\lib\\site-packages (0.21.0)\n",
      "Requirement already satisfied: torchaudio in c:\\users\\lenovo\\anaconda3\\lib\\site-packages (2.6.0)\n",
      "Requirement already satisfied: filelock in c:\\users\\lenovo\\anaconda3\\lib\\site-packages (from torch) (3.13.1)\n",
      "Requirement already satisfied: typing-extensions>=4.10.0 in c:\\users\\lenovo\\anaconda3\\lib\\site-packages (from torch) (4.11.0)\n",
      "Requirement already satisfied: networkx in c:\\users\\lenovo\\anaconda3\\lib\\site-packages (from torch) (3.3)\n",
      "Requirement already satisfied: jinja2 in c:\\users\\lenovo\\anaconda3\\lib\\site-packages (from torch) (3.1.4)\n",
      "Requirement already satisfied: fsspec in c:\\users\\lenovo\\anaconda3\\lib\\site-packages (from torch) (2024.6.1)\n",
      "Requirement already satisfied: setuptools in c:\\users\\lenovo\\anaconda3\\lib\\site-packages (from torch) (75.1.0)\n",
      "Requirement already satisfied: sympy==1.13.1 in c:\\users\\lenovo\\anaconda3\\lib\\site-packages (from torch) (1.13.1)\n",
      "Requirement already satisfied: mpmath<1.4,>=1.1.0 in c:\\users\\lenovo\\anaconda3\\lib\\site-packages (from sympy==1.13.1->torch) (1.3.0)\n",
      "Requirement already satisfied: numpy in c:\\users\\lenovo\\anaconda3\\lib\\site-packages (from torchvision) (1.26.4)\n",
      "Requirement already satisfied: pillow!=8.3.*,>=5.3.0 in c:\\users\\lenovo\\anaconda3\\lib\\site-packages (from torchvision) (10.4.0)\n",
      "Requirement already satisfied: MarkupSafe>=2.0 in c:\\users\\lenovo\\anaconda3\\lib\\site-packages (from jinja2->torch) (2.1.3)\n"
     ]
    }
   ],
   "source": [
    "#!pip3 install torch torchvision torchaudio"
   ]
  },
  {
   "cell_type": "code",
   "execution_count": 5,
   "id": "ee58c465-982b-41ec-ac2c-595b4d07dbbe",
   "metadata": {},
   "outputs": [],
   "source": [
    "import torch\n",
    "from torch.utils.data import Dataset,DataLoader\n",
    "class GPTDatasetV1(Dataset):\n",
    "    def __init__(self, txt, tokenizer, max_length, stride):              \n",
    "        #max_length 是每次读取文本的最大长度\n",
    "        #stride 是步长也就是滑动窗口的大小\n",
    "        self.input_ids = []\n",
    "        self.target_ids = []\n",
    "\n",
    "        token_ids = tokenizer.encode(txt)                                #A\n",
    "\n",
    "        for i in range(0, len(token_ids) - max_length, stride):          #B\n",
    "            input_chunk = token_ids[i:i + max_length]\n",
    "            target_chunk = token_ids[i + 1: i + max_length + 1]\n",
    "            self.input_ids.append(torch.tensor(input_chunk))\n",
    "            self.target_ids.append(torch.tensor(target_chunk))\n",
    "\n",
    "    def __len__(self):                                                     #C\n",
    "        return len(self.input_ids)\n",
    "\n",
    "    def __getitem__(self, idx):                                            #D\n",
    "    \treturn self.input_ids[idx], self.target_ids[idx]\n",
    "#A 将整个文本进行分词\n",
    "#B 使用滑动窗口将书籍分块为最大长度的重叠序列。\n",
    "#C 返回数据集的总行数\n",
    "#D 从数据集中返回指定行"
   ]
  },
  {
   "cell_type": "code",
   "execution_count": 17,
   "id": "5517af72-4b82-4ec4-a481-eafa6e508356",
   "metadata": {},
   "outputs": [],
   "source": [
    "def create_dataloader_v1(txt, batch_size=4, max_length=256,stride=128, shuffle=True, drop_last=True, num_workers=0):\n",
    "    tokenizer = tiktoken.get_encoding(\"gpt2\")                       #A\n",
    "    dataset = GPTDatasetV1(txt, tokenizer, max_length, stride)      #B\n",
    "    dataloader = DataLoader(\n",
    "        dataset,\n",
    "      \tbatch_size=batch_size,\n",
    "      \tshuffle=shuffle,\n",
    "      \tdrop_last=drop_last,                                        #C\n",
    "      \tnum_workers=0                                               #D\n",
    "    )\n",
    "\n",
    "    return dataloader\n",
    "\n",
    "#A 初始化分词器\n",
    "#B 创建GPTDatasetV1类\n",
    "#C drop_last=True会在最后一批次小于指定的batch_size时丢弃该批次，以防止训练期间的损失峰值\n",
    "#D 用于预处理的CPU进程数量"
   ]
  },
  {
   "cell_type": "code",
   "execution_count": 25,
   "id": "cd4b7e43-43e0-421c-a937-c882b309a379",
   "metadata": {},
   "outputs": [
    {
     "name": "stdout",
     "output_type": "stream",
     "text": [
      "[tensor([[  464,  4643, 11600,   628],\n",
      "        [ 4643, 11600,   628,   198],\n",
      "        [11600,   628,   198,   197],\n",
      "        [  628,   198,   197,   197]]), tensor([[ 4643, 11600,   628,   198],\n",
      "        [11600,   628,   198,   197],\n",
      "        [  628,   198,   197,   197],\n",
      "        [  198,   197,   197,   197]])]\n"
     ]
    }
   ],
   "source": [
    "with open(\"The_Verdict.txt\", \"r\", encoding=\"utf-8\") as f:\n",
    "\t\traw_text = f.read()\n",
    "dataloader = create_dataloader_v1(\n",
    "  \traw_text, batch_size=4, max_length=4, stride=1, shuffle=False)\n",
    "first_batch = next(iter(dataloader))\n",
    "print(first_batch)"
   ]
  },
  {
   "cell_type": "markdown",
   "id": "89c5ae19-dcb2-4c71-ac0f-b9e813d3c2f0",
   "metadata": {},
   "source": [
    "我们在上面已将单词转换为一个个的token ids，但是在传输给下一层神经网络之前，我们需要讲token id转换为嵌入向量，这也就是Embedding层需要做的事。原理其实也非常简单就是嵌入也有个单词表，每个单词对应一个n维的向量（n是由用户指定的），嵌入层会根据token id生成指定的顺序的向量。将token转换为向量的目的：\n",
    "1.向量可以理解近义词和相似词\n",
    "2.向量可以考虑句子和段落的上下文关系\n",
    "3.因为LLM是神经网络，我们需要向量数值计算梯度以及通过反向传播算法来更新梯度"
   ]
  },
  {
   "cell_type": "code",
   "execution_count": 13,
   "id": "64d04fa3-287a-4318-a34b-ed89ddb9aa1e",
   "metadata": {},
   "outputs": [
    {
     "name": "stdout",
     "output_type": "stream",
     "text": [
      "Parameter containing:\n",
      "tensor([[ 0.3374, -0.1778, -0.1690],\n",
      "        [ 0.9178,  1.5810,  1.3010],\n",
      "        [ 1.2753, -0.2010, -0.1606],\n",
      "        [-0.4015,  0.9666, -1.1481],\n",
      "        [-1.1589,  0.3255, -0.6315],\n",
      "        [-2.8400, -0.7849, -1.4096]], requires_grad=True)\n",
      "tensor([[ 1.2753, -0.2010, -0.1606],\n",
      "        [-0.4015,  0.9666, -1.1481],\n",
      "        [-2.8400, -0.7849, -1.4096],\n",
      "        [ 0.9178,  1.5810,  1.3010]], grad_fn=<EmbeddingBackward0>)\n"
     ]
    }
   ],
   "source": [
    "#假设输入的句子token ids\n",
    "input_ids = torch.tensor([2, 3, 5, 1])\n",
    "#指定的单词表大小即一共有6个单词的单词表\n",
    "vocab_size = 6\n",
    "#指定每个单词的向量维度\n",
    "output_dim = 3\n",
    "torch.manual_seed(123)\n",
    "#创建嵌入层\n",
    "embedding_layer = torch.nn.Embedding(vocab_size, output_dim)\n",
    "#输出的便是向量单词表\n",
    "print(embedding_layer.weight)\n",
    "#应用嵌入层生成该句子的向量\n",
    "print(embedding_layer(input_ids))\n"
   ]
  },
  {
   "cell_type": "code",
   "execution_count": 31,
   "id": "794b3507-4007-4181-9c40-9ff5a96a4289",
   "metadata": {},
   "outputs": [
    {
     "name": "stdout",
     "output_type": "stream",
     "text": [
      "Token IDs:\n",
      " tensor([[  464,  4643, 11600,   628],\n",
      "        [  198,   197,   197,   197],\n",
      "        [  197,   197,  7407,   342],\n",
      "        [  854, 41328,   628,   628],\n",
      "        [  198,   198,  1129,  2919],\n",
      "        [  628,   628,   198,   198],\n",
      "        [ 3109,  9213,   422, 11145],\n",
      "        [  271,  1668,   319,  3945]])\n",
      "\n",
      "Inputs shape:\n",
      " torch.Size([8, 4])\n"
     ]
    }
   ],
   "source": [
    "max_length = 4\n",
    "dataloader = create_dataloader_v1(raw_text, batch_size=8, max_length=max_length, stride=max_length, shuffle=False)\n",
    "data_iter = iter(dataloader)\n",
    "inputs, targets = next(data_iter)\n",
    "print(\"Token IDs:\\n\", inputs)\n",
    "print(\"\\nInputs shape:\\n\", inputs.shape)"
   ]
  },
  {
   "cell_type": "code",
   "execution_count": 35,
   "id": "c55dd2d1-f51e-4e85-9a5c-53cc5b9cc47f",
   "metadata": {},
   "outputs": [
    {
     "name": "stdout",
     "output_type": "stream",
     "text": [
      "torch.Size([8, 4, 256])\n"
     ]
    }
   ],
   "source": [
    "vocab_size = 50257\n",
    "output_dim = 256\n",
    "token_embedding_layer = torch.nn.Embedding(vocab_size, output_dim)\n",
    "token_embeddings = token_embedding_layer(inputs)\n",
    "print(token_embeddings.shape)"
   ]
  },
  {
   "cell_type": "code",
   "execution_count": 37,
   "id": "2564180f-6ee8-40b7-95b7-f29bcc473afe",
   "metadata": {},
   "outputs": [
    {
     "name": "stdout",
     "output_type": "stream",
     "text": [
      "torch.Size([4, 256])\n",
      "torch.Size([8, 4, 256])\n"
     ]
    }
   ],
   "source": [
    "context_length = max_length\n",
    "pos_embedding_layer = torch.nn.Embedding(context_length, output_dim)\n",
    "pos_embeddings = pos_embedding_layer(torch.arange(context_length))\n",
    "print(pos_embeddings.shape)\n",
    "input_embeddings = token_embeddings + pos_embeddings\n",
    "print(input_embeddings.shape)"
   ]
  },
  {
   "cell_type": "markdown",
   "id": "c14ef190-565b-4f5b-83a8-f114305ad6d5",
   "metadata": {},
   "source": [
    "向量需要添加位置编码，这对后来的上下文理解非常重要。主要有以下位置编码：\n",
    "1.相对位置\n",
    "2.绝对位置\n",
    "以下是个练习使用BERT对一串文本进行预处理"
   ]
  },
  {
   "cell_type": "code",
   "execution_count": 1,
   "id": "2a778558-a152-4ff3-b636-847e2c5e2245",
   "metadata": {},
   "outputs": [
    {
     "name": "stdout",
     "output_type": "stream",
     "text": [
      "Collecting transformers\n",
      "  Downloading transformers-4.49.0-py3-none-any.whl.metadata (44 kB)\n",
      "Requirement already satisfied: filelock in c:\\users\\lenovo\\anaconda3\\lib\\site-packages (from transformers) (3.13.1)\n",
      "Collecting huggingface-hub<1.0,>=0.26.0 (from transformers)\n",
      "  Downloading huggingface_hub-0.29.1-py3-none-any.whl.metadata (13 kB)\n",
      "Requirement already satisfied: numpy>=1.17 in c:\\users\\lenovo\\anaconda3\\lib\\site-packages (from transformers) (1.26.4)\n",
      "Requirement already satisfied: packaging>=20.0 in c:\\users\\lenovo\\anaconda3\\lib\\site-packages (from transformers) (24.1)\n",
      "Requirement already satisfied: pyyaml>=5.1 in c:\\users\\lenovo\\anaconda3\\lib\\site-packages (from transformers) (6.0.1)\n",
      "Requirement already satisfied: regex!=2019.12.17 in c:\\users\\lenovo\\anaconda3\\lib\\site-packages (from transformers) (2024.9.11)\n",
      "Requirement already satisfied: requests in c:\\users\\lenovo\\anaconda3\\lib\\site-packages (from transformers) (2.32.3)\n",
      "Collecting tokenizers<0.22,>=0.21 (from transformers)\n",
      "  Downloading tokenizers-0.21.0-cp39-abi3-win_amd64.whl.metadata (6.9 kB)\n",
      "Collecting safetensors>=0.4.1 (from transformers)\n",
      "  Downloading safetensors-0.5.2-cp38-abi3-win_amd64.whl.metadata (3.9 kB)\n",
      "Requirement already satisfied: tqdm>=4.27 in c:\\users\\lenovo\\anaconda3\\lib\\site-packages (from transformers) (4.66.5)\n",
      "Requirement already satisfied: fsspec>=2023.5.0 in c:\\users\\lenovo\\anaconda3\\lib\\site-packages (from huggingface-hub<1.0,>=0.26.0->transformers) (2024.6.1)\n",
      "Requirement already satisfied: typing-extensions>=3.7.4.3 in c:\\users\\lenovo\\anaconda3\\lib\\site-packages (from huggingface-hub<1.0,>=0.26.0->transformers) (4.11.0)\n",
      "Requirement already satisfied: colorama in c:\\users\\lenovo\\anaconda3\\lib\\site-packages (from tqdm>=4.27->transformers) (0.4.6)\n",
      "Requirement already satisfied: charset-normalizer<4,>=2 in c:\\users\\lenovo\\anaconda3\\lib\\site-packages (from requests->transformers) (3.3.2)\n",
      "Requirement already satisfied: idna<4,>=2.5 in c:\\users\\lenovo\\anaconda3\\lib\\site-packages (from requests->transformers) (3.7)\n",
      "Requirement already satisfied: urllib3<3,>=1.21.1 in c:\\users\\lenovo\\anaconda3\\lib\\site-packages (from requests->transformers) (2.2.3)\n",
      "Requirement already satisfied: certifi>=2017.4.17 in c:\\users\\lenovo\\anaconda3\\lib\\site-packages (from requests->transformers) (2024.12.14)\n",
      "Downloading transformers-4.49.0-py3-none-any.whl (10.0 MB)\n",
      "   ---------------------------------------- 0.0/10.0 MB ? eta -:--:--\n",
      "   --------- ------------------------------ 2.4/10.0 MB 12.2 MB/s eta 0:00:01\n",
      "   ------------------ --------------------- 4.7/10.0 MB 11.9 MB/s eta 0:00:01\n",
      "   ---------------------------- ----------- 7.1/10.0 MB 11.8 MB/s eta 0:00:01\n",
      "   -------------------------------------- - 9.7/10.0 MB 11.8 MB/s eta 0:00:01\n",
      "   ---------------------------------------- 10.0/10.0 MB 11.7 MB/s eta 0:00:00\n",
      "Downloading huggingface_hub-0.29.1-py3-none-any.whl (468 kB)\n",
      "Downloading safetensors-0.5.2-cp38-abi3-win_amd64.whl (303 kB)\n",
      "Downloading tokenizers-0.21.0-cp39-abi3-win_amd64.whl (2.4 MB)\n",
      "   ---------------------------------------- 0.0/2.4 MB ? eta -:--:--\n",
      "   ----------------------------------- ---- 2.1/2.4 MB 11.7 MB/s eta 0:00:01\n",
      "   ---------------------------------------- 2.4/2.4 MB 10.4 MB/s eta 0:00:00\n",
      "Installing collected packages: safetensors, huggingface-hub, tokenizers, transformers\n",
      "Successfully installed huggingface-hub-0.29.1 safetensors-0.5.2 tokenizers-0.21.0 transformers-4.49.0\n"
     ]
    }
   ],
   "source": [
    "!pip install transformers"
   ]
  },
  {
   "cell_type": "code",
   "execution_count": 15,
   "id": "67c4d66d-e592-4440-b90e-fe1042efe322",
   "metadata": {},
   "outputs": [
    {
     "name": "stdout",
     "output_type": "stream",
     "text": [
      "Tokens: ['ho', '##lle', 'world', ',', 'nice', 'to', 'meet', 'you', '!']\n",
      "Token IDs: [7570, 6216, 2088, 1010, 3835, 2000, 3113, 2017, 999]\n",
      "Token Embeddings Shape: torch.Size([1, 9, 768])\n",
      "Input Embeddings Shape: torch.Size([1, 9, 768])\n"
     ]
    }
   ],
   "source": [
    "text = \"Holle world, nice to meet you!\"\n",
    "import torch\n",
    "from transformers import BertTokenizer, BertModel\n",
    "#加载BERT 预训练的tokenizer\n",
    "tokenizer = BertTokenizer.from_pretrained('bert-base-uncased')\n",
    "#加载bert的预训练模型因为bert的嵌入层集成在model中\n",
    "model = BertModel.from_pretrained('bert-base-uncased')\n",
    "# 将文本转为 token ids\n",
    "tokens = tokenizer.tokenize(text)\n",
    "token_ids = tokenizer.convert_tokens_to_ids(tokens)\n",
    "# 将 token ids 转换为张量，并增加 batch 维度\n",
    "input_ids = torch.tensor([token_ids])\n",
    "\n",
    "# 打印 tokens 和 token ids\n",
    "print(f\"Tokens: {tokens}\")\n",
    "print(f\"Token IDs: {token_ids}\")\n",
    "# 获取 BERT 模型的输出（嵌入向量）\n",
    "with torch.no_grad():\n",
    "    outputs = model(input_ids)\n",
    "# 获取 token 嵌入\n",
    "token_embeddings = outputs[0]\n",
    "print(f\"Token Embeddings Shape: {token_embeddings.shape}\")\n",
    "\n",
    "# 获取位置嵌入\n",
    "embedding_layer = model.embeddings\n",
    "position_embeddings = embedding_layer.position_embeddings(torch.arange(input_ids.size(1), dtype=torch.long).unsqueeze(0))\n",
    "input_embeddings = token_embeddings + position_embeddings\n",
    "print(f\"Input Embeddings Shape: {input_embeddings.shape}\")"
   ]
  },
  {
   "cell_type": "code",
   "execution_count": null,
   "id": "11687a48-4103-4f9b-85a4-2837f5a6b0d4",
   "metadata": {},
   "outputs": [],
   "source": []
  }
 ],
 "metadata": {
  "kernelspec": {
   "display_name": "Python [conda env:base] *",
   "language": "python",
   "name": "conda-base-py"
  },
  "language_info": {
   "codemirror_mode": {
    "name": "ipython",
    "version": 3
   },
   "file_extension": ".py",
   "mimetype": "text/x-python",
   "name": "python",
   "nbconvert_exporter": "python",
   "pygments_lexer": "ipython3",
   "version": "3.12.7"
  }
 },
 "nbformat": 4,
 "nbformat_minor": 5
}
