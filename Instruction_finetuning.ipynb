{
 "cells": [
  {
   "cell_type": "markdown",
   "id": "6fa560fb-3af8-480a-850c-cf3407df6f43",
   "metadata": {},
   "source": [
    "## 指令微调流程\n",
    "Stage 1 Preparing the dataset:\n",
    "1.Data download and formatting\n",
    "2.Batching the dataset\n",
    "3.Creating data loaders\n",
    "Stage 2 Finetuning the LLM:\n",
    "4.Loading a pretrained LLM\n",
    "5.Instruction finetuning the LLM\n",
    "6.Inspecting the modeling loss\n",
    "Stage 3 Evaluating the LLM:\n",
    "7.Extracting responses\n",
    "8.Qualitative evaluation \n",
    "9.Scoring the responses"
   ]
  },
  {
   "cell_type": "markdown",
   "id": "c9cb1a5f-f5ba-427f-b46c-633c802015e4",
   "metadata": {},
   "source": [
    "# Stage 1 Preparing the dataset:\n",
    "1.Data download and formatting\n",
    "json格式的数据集包含1100组指令和相应对"
   ]
  },
  {
   "cell_type": "code",
   "execution_count": 7,
   "id": "42b8e64d-033e-4fc5-aaa0-2776b1ef9960",
   "metadata": {},
   "outputs": [
    {
     "name": "stdout",
     "output_type": "stream",
     "text": [
      "Number of entries: 1100\n",
      "{'instruction': \"Change the sentence 'You should have called me.' into a question.\", 'input': '', 'output': 'Should you have called me?'}\n"
     ]
    }
   ],
   "source": [
    "# Listing 7.1 Downloading the dataset\n",
    "import json\n",
    "import os\n",
    "import urllib\n",
    "\n",
    "def download_and_load_file(file_path, url):\n",
    "    if not os.path.exists(file_path):\n",
    "        with urllib.request.urlopen(url) as response:\n",
    "            text_data = response.read().decode(\"utf-8\")\n",
    "        with open(file_path, \"w\", encoding=\"utf-8\") as file:\n",
    "            file.write(text_data)\n",
    "    else: #A\n",
    "        with open(file_path, \"r\", encoding=\"utf-8\") as file:\n",
    "            text_data = file.read()\n",
    "    with open(file_path, \"r\") as file:\n",
    "        data = json.load(file)\n",
    "    return data\n",
    "\n",
    "file_path = \"instruction-data.json\"\n",
    "url = \"https://raw.githubusercontent.com/rasbt/LLMs-from-scratch/main/ch07/01_mainchapter-code/instruction-data.json\"\n",
    "\n",
    "data = download_and_load_file(file_path, url)\n",
    "print(\"Number of entries:\", len(data))\n",
    "for a in data:\n",
    "    pass\n",
    "print(a)\n",
    "\n",
    "#A 如果文件已经下载，就跳过下载过程"
   ]
  },
  {
   "cell_type": "markdown",
   "id": "6f68e75f-4c9d-4902-ac64-69b38981c6d9",
   "metadata": {},
   "source": [
    "#指令微调也被称为Supervised instruction finetuning ，是指在包含明确的输入和输出对数据集上进行训练。格式化这些json条目，有两种方法或叫做提示风格。ALpaca和Phi-3，我们主要关注Alpaca提示风格"
   ]
  },
  {
   "cell_type": "code",
   "execution_count": 9,
   "id": "1098568e-2519-42c8-b08d-084d3d10416d",
   "metadata": {},
   "outputs": [],
   "source": [
    "# Listing 7.2 Implementing the prompt formatting function\n",
    "def format_input(entry):\n",
    "    instruction_text = (\n",
    "        f\"Below is an instruction that describes a task. \"\n",
    "        f\"Write a response that appropriately completes the request.\"\n",
    "        f\"\\n\\n### Instruction:\\n{entry['instruction']}\"\n",
    "    )\n",
    "    input_text = f\"\\n\\n### Input:\\n{entry['input']}\" if entry[\"input\"] else \"\"\n",
    "    #如果input条目为空那么这行就不存在\n",
    "    return instruction_text + input_text"
   ]
  },
  {
   "cell_type": "code",
   "execution_count": 10,
   "id": "ac06739f-c811-475f-ae3d-56beba7a70dd",
   "metadata": {},
   "outputs": [
    {
     "name": "stdout",
     "output_type": "stream",
     "text": [
      "Below is an instruction that describes a task. Write a response that appropriately completes the request.\n",
      "\n",
      "### Instruction:\n",
      "Change the sentence 'You should have called me.' into a question.\n",
      "\n",
      "### Response:\n",
      "Should you have called me?\n"
     ]
    }
   ],
   "source": [
    "model_input = format_input(data[1099])\n",
    "desired_response = f\"\\n\\n### Response:\\n{data[1099]['output']}\"\n",
    "print(model_input + desired_response)"
   ]
  },
  {
   "cell_type": "code",
   "execution_count": 11,
   "id": "9d31c90e-89c1-4f26-8cad-bf16f171e18c",
   "metadata": {},
   "outputs": [
    {
     "name": "stdout",
     "output_type": "stream",
     "text": [
      "Training set length: 935\n",
      "Validation set length: 55\n",
      "Test set length: 110\n"
     ]
    }
   ],
   "source": [
    "#划分训练集 验证集 和测试集\n",
    "train_portion = int(len(data) * 0.85) # 85% for training\n",
    "test_portion = int(len(data) * 0.1) # 10% for testing\n",
    "val_portion = len(data) - train_portion - test_portion # Remaining 5% for validation\n",
    "\n",
    "train_data = data[:train_portion]\n",
    "test_data = data[train_portion:train_portion + test_portion]\n",
    "val_data = data[train_portion + test_portion:]\n",
    "\n",
    "print(\"Training set length:\", len(train_data))\n",
    "print(\"Validation set length:\", len(val_data))\n",
    "print(\"Test set length:\", len(test_data))"
   ]
  },
  {
   "cell_type": "markdown",
   "id": "6fa3ea41-c062-48f4-a9db-172400dfcbb5",
   "metadata": {},
   "source": [
    "2.Batching the dataset\n",
    "#在之前的章节我们在对垃圾消息的dataset处理的时候是，使用了dataloader的默认行为default_collate它会将数据样本进行默认堆叠。但是有些情况下默认堆叠并不能满足数据处理的要求：\n",
    "变长序列数据：如 NLP 任务中句子长度不一致的情况，需要通过填充或裁剪来处理。\n",
    "图数据：在图神经网络（GNN）中，处理不规则结构的数据也需要通过自定义 collate_fn 进行图的合并。\n",
    "多模态数据：如图像和文本结合的任务，需要对不同数据模态采用不同的处理方式。\n",
    "稀疏矩阵或稀疏张量：对于某些稀疏格式的数据，可能需要自定义 collate_fn 来实现特定的合并操作。\n",
    "这时候就需要去自定义collate_fn函数"
   ]
  },
  {
   "cell_type": "markdown",
   "id": "a303d710-1fd6-4070-8ae8-61fc53f2ccf3",
   "metadata": {},
   "source": [
    "批次处理的流程：\n",
    "1.用提示条目模版去格式化数据\n",
    "2.将格式化的数据进行token id化\n",
    "3.将token调整成统一的长度，追加50256\n",
    "4.创建target token id 用于训练\n",
    "5.使用-100占位符替换掩码，以便在损失函数中屏蔽填充token"
   ]
  },
  {
   "cell_type": "code",
   "execution_count": 14,
   "id": "a02c2bbf-56d2-4b45-bf19-e237aea536a0",
   "metadata": {},
   "outputs": [],
   "source": [
    "# Listing 7.4 Implementing an instruction dataset class\n",
    "import torch\n",
    "from torch.utils.data import Dataset\n",
    "\n",
    "class InstructionDataset(Dataset):\n",
    "    def __init__(self, data, tokenizer):\n",
    "        self.data = data\n",
    "        self.encoded_texts = []\n",
    "        for entry in data:                                           #A\n",
    "            instruction_plus_input = format_input(entry)\n",
    "            response_text = f\"\\n\\n### Response:\\n{entry['output']}\"\n",
    "            full_text = instruction_plus_input + response_text\n",
    "            self.encoded_texts.append(\n",
    "                tokenizer.encode(full_text)\n",
    "            )\n",
    "\n",
    "    def __getitem__(self, index):\n",
    "        return self.encoded_texts[index]\n",
    "\n",
    "    def __len__(self):\n",
    "        return len(self.data)\n",
    "\n",
    "#A 预分词文本"
   ]
  },
  {
   "cell_type": "markdown",
   "id": "e94307fe-f1c0-4161-b2d1-9666dd2b4222",
   "metadata": {},
   "source": [
    "#之所以我们为什么不能向上一章一样对数据进行同一填充到统一长度后，在进行dataset初始化。是因为我们要尝试一种更加精细的填充方法，保证每个批次中的长度一样，所以需要自定义fn_collate函数。\n",
    "这种方法相较于全局填充，能够减少无效填充，降低计算开销，有些深度学习模型对于过长的序列会表现出不稳定性或效率下降，特别是在自注意力机制（Self-attention）模型中，计算复杂度是序列长度的平方级别。"
   ]
  },
  {
   "cell_type": "code",
   "execution_count": 16,
   "id": "f437ebf3-5835-4e8c-8793-19541d5b6009",
   "metadata": {},
   "outputs": [],
   "source": [
    "def custom_collate_draft_1(\n",
    "    batch,\n",
    "    pad_token_id=50256,\n",
    "    device=\"cpu\"\n",
    "):\n",
    "    batch_max_length = max(len(item)+1 for item in batch)          #A\n",
    "    inputs_lst = []\n",
    "\n",
    "    for item in batch:                                             #B\n",
    "        new_item = item.copy()\n",
    "        new_item += [pad_token_id]\n",
    "\n",
    "        padded = new_item + [pad_token_id] * (batch_max_length - len(new_item))\n",
    "\n",
    "        inputs = torch.tensor(padded[:-1])                         #C\n",
    "        inputs_lst.append(inputs)\n",
    "\n",
    "    inputs_tensor = torch.stack(inputs_lst).to(device)             #D\n",
    "    return inputs_tensor\n",
    "\n",
    "\n",
    "#A 找出批量中的最长序列\n",
    "#B 对输入进行填充并准备好输入数据\n",
    "#C 删除之前添加的多余填充 token\n",
    "#D 将输入列表转换为张量，并转移到目标设备\n"
   ]
  },
  {
   "cell_type": "markdown",
   "id": "4ed759ed-b032-461a-9605-33d8208904a4",
   "metadata": {},
   "source": [
    "#可能会在这里疑惑为什么new_item += [pad_token_id]又inputs = torch.tensor(padded[:-1])其实这个代码想要实现的功能跟下面完整的函数有关，所以在这里可能看起来是冗余的"
   ]
  },
  {
   "cell_type": "code",
   "execution_count": 18,
   "id": "ed271071-26f2-47b1-8943-f4f3b5f2727f",
   "metadata": {},
   "outputs": [
    {
     "name": "stdout",
     "output_type": "stream",
     "text": [
      "<class 'tuple'>\n",
      "tensor([[    0,     1,     2,     3,     4],\n",
      "        [    5,     6, 50256, 50256, 50256],\n",
      "        [    7,     8,     9, 50256, 50256]])\n"
     ]
    }
   ],
   "source": [
    "inputs_1 = [0, 1, 2, 3, 4]\n",
    "inputs_2 = [5, 6]\n",
    "inputs_3 = [7, 8, 9]\n",
    "batch = (\n",
    "    inputs_1,\n",
    "    inputs_2,\n",
    "    inputs_3\n",
    ")\n",
    "print(type(batch))\n",
    "print(custom_collate_draft_1(batch))"
   ]
  },
  {
   "cell_type": "code",
   "execution_count": 19,
   "id": "d356a585-9ebe-4668-a890-c4b01448e06a",
   "metadata": {},
   "outputs": [],
   "source": [
    "def custom_collate_draft_2(\n",
    "    batch,\n",
    "    pad_token_id=50256,\n",
    "    device=\"cpu\"\n",
    "):\n",
    "    batch_max_length = max(len(item)+1 for item in batch)\n",
    "    inputs_lst, targets_lst = [], []\n",
    "\n",
    "    for item in batch:\n",
    "        new_item = item.copy()\n",
    "        new_item += [pad_token_id]\n",
    "        padded = new_item + [pad_token_id] * (batch_max_length - len(new_item))\n",
    "        inputs = torch.tensor(padded[:-1])             #A\n",
    "        targets = torch.tensor(padded[1:])             #B\n",
    "        inputs_lst.append(inputs)\n",
    "        targets_lst.append(targets)\n",
    "\n",
    "    inputs_tensor = torch.stack(inputs_lst).to(device)\n",
    "    targets_tensor = torch.stack(targets_lst).to(device)\n",
    "    return inputs_tensor, targets_tensor"
   ]
  },
  {
   "cell_type": "markdown",
   "id": "11e1e192-652c-4bcf-9a6f-28ac7f362ae7",
   "metadata": {},
   "source": [
    "#这里就解释了为什么draft1会有冗余的代码，这是为了draft2中进行使用的，方便target token通过索引直接生成\n",
    "inputs_lst的数据类型类似 [tensor（）,tensor()]，而torch.stack会将list转换为tensor(tensor（）,tensor())"
   ]
  },
  {
   "cell_type": "code",
   "execution_count": 21,
   "id": "98a81826-29de-4947-a115-24c535ad96b1",
   "metadata": {},
   "outputs": [
    {
     "name": "stdout",
     "output_type": "stream",
     "text": [
      "tensor([[    0,     1,     2,     3,     4],\n",
      "        [    5,     6, 50256, 50256, 50256],\n",
      "        [    7,     8,     9, 50256, 50256]])\n",
      "tensor([[    1,     2,     3,     4, 50256],\n",
      "        [    6, 50256, 50256, 50256, 50256],\n",
      "        [    8,     9, 50256, 50256, 50256]])\n"
     ]
    }
   ],
   "source": [
    "inputs, targets = custom_collate_draft_2(batch)\n",
    "print(inputs)\n",
    "print(targets)"
   ]
  },
  {
   "cell_type": "code",
   "execution_count": 22,
   "id": "7cf0a188-f7c0-4ec4-b33a-4f6d4ff8b5dd",
   "metadata": {},
   "outputs": [],
   "source": [
    "#将所有target的填充token设置为占位置-100，这个特殊值能让填充token不参与训练损失计算\n",
    "#但是我们会保留一个文本结束的token 50256 ，这使得LLM能够学习在收到指令时何时生成结束token\n",
    "def custom_collate_fn(\n",
    "    batch,\n",
    "    pad_token_id=50256,\n",
    "    ignore_index=-100,\n",
    "    allowed_max_length=None,\n",
    "    device=\"cpu\"\n",
    "):\n",
    "    batch_max_length = max(len(item)+1 for item in batch)\n",
    "    inputs_lst, targets_lst = [], []\n",
    "\n",
    "    for item in batch:\n",
    "        new_item = item.copy()\n",
    "        new_item += [pad_token_id]\n",
    "        # Pad sequences to max_length\n",
    "        padded = new_item + [pad_token_id] * (batch_max_length - len(new_item))\n",
    "        inputs = torch.tensor(padded[:-1]) # Truncate the last token for inputs\n",
    "        targets = torch.tensor(padded[1:]) # Shift +1 to the right for targets\n",
    "\n",
    "        mask = targets == pad_token_id\n",
    "        #布尔运算 mask 是一个shape相同的布尔tensor\n",
    "        indices = torch.nonzero(mask).squeeze()\n",
    "        #nonzero将会返回张量内容为true的索引，squeeze是将多余的维度进行删除\n",
    "        if indices.numel() > 1:\n",
    "            #我们要保留一个50256的token作为文本结束的标志\n",
    "            targets[indices[1:]] = ignore_index        \n",
    "        #如果有allow_max_length的要求就需要截断\n",
    "        if allowed_max_length is not None:\n",
    "            inputs = inputs[:allowed_max_length]        \n",
    "            targets = targets[:allowed_max_length]      \n",
    "\n",
    "        inputs_lst.append(inputs)\n",
    "        targets_lst.append(targets)\n",
    "\n",
    "    inputs_tensor = torch.stack(inputs_lst).to(device)\n",
    "    targets_tensor = torch.stack(targets_lst)\n",
    "    return inputs_tensor, targets_tensor\n"
   ]
  },
  {
   "cell_type": "code",
   "execution_count": 23,
   "id": "3017a329-7b62-4387-a539-5cce657e6e74",
   "metadata": {},
   "outputs": [
    {
     "name": "stdout",
     "output_type": "stream",
     "text": [
      "tensor([[    0,     1,     2,     3,     4],\n",
      "        [    5,     6, 50256, 50256, 50256],\n",
      "        [    7,     8,     9, 50256, 50256]])\n",
      "tensor([[    1,     2,     3,     4, 50256],\n",
      "        [    6, 50256,  -100,  -100,  -100],\n",
      "        [    8,     9, 50256,  -100,  -100]])\n"
     ]
    }
   ],
   "source": [
    "inputs, targets = custom_collate_fn(batch)\n",
    "print(inputs)\n",
    "print(targets)"
   ]
  },
  {
   "cell_type": "markdown",
   "id": "5fa68e7a-595c-4e2d-a892-34d0a69a53a5",
   "metadata": {},
   "source": [
    "# 为什么将target的填充符号设置为-100?\n",
    "在cross_entropy函数中有一个默认参数ignore_index=-100,意思就是如果target张量中存在-100的话，将会忽略掉这个target在loss中的计算。要知道填充位只是为了让序列长度一致，模型不应该在这些位置上进行学习或惩罚。如果没有将这些填充值设置为忽略值，模型可能会试图为这些无效的填充位置进行预测，这会导致不合理的梯度更新，影响模型的学习效果。\n",
    "以上面输出的两个张量为例，在loss计算中只会计算input中[    0,     1,     2,     3,     4]和target中[    1,     2,     3,     4, 50256]的交叉熵，而[    5,     6, 50256, 50256, 50256]和[    6, 50256,  -100,  -100,  -100]只会计算6, 50256的交叉熵\n"
   ]
  },
  {
   "cell_type": "markdown",
   "id": "2d272307-7d95-4093-acfd-5cbe8d77b462",
   "metadata": {},
   "source": [
    "# 创建Datasetloader"
   ]
  },
  {
   "cell_type": "markdown",
   "id": "36b64c48-fc14-4248-99b2-e91b9e78ef17",
   "metadata": {},
   "source": [
    "在 Python 中，functools.partial 是一个非常有用的工具，它允许你为函数预设部分参数并生成一个新函数。这样，当你在调用这个新函数时，不需要重复输入那些已经预设的参数。因为后面初始化dataloader时需要反复的输入collate_fn的参数，所以这里就创建一个用于复用的新函数"
   ]
  },
  {
   "cell_type": "code",
   "execution_count": 27,
   "id": "be77b57c-4210-4bfd-ba20-f8ad35e57665",
   "metadata": {},
   "outputs": [],
   "source": [
    "from functools import partial\n",
    "device = torch.device(\"cpu\")\n",
    "customized_collate_fn = partial(custom_collate_fn, device=device,allowed_max_length=1024)"
   ]
  },
  {
   "cell_type": "code",
   "execution_count": 44,
   "id": "116cbd62-1e5c-4fed-be19-a648daaf6b20",
   "metadata": {},
   "outputs": [],
   "source": [
    "# Listing 7.6 Initializing the data loaders\n",
    "import tiktoken\n",
    "from torch.utils.data import DataLoader\n",
    "\n",
    "tokenizer = tiktoken.get_encoding(\"gpt2\")\n",
    "num_workers = 4         #A\n",
    "batch_size = 8\n",
    "\n",
    "torch.manual_seed(123)\n",
    "\n",
    "train_dataset = InstructionDataset(train_data, tokenizer)\n",
    "train_loader = DataLoader(\n",
    "    train_dataset,\n",
    "    batch_size=batch_size,\n",
    "    collate_fn=customized_collate_fn,\n",
    "    shuffle=True,\n",
    "    drop_last=True,\n",
    "    num_workers=num_workers\n",
    ")\n",
    "\n",
    "val_dataset = InstructionDataset(val_data, tokenizer)\n",
    "val_loader = DataLoader(\n",
    "    val_dataset,\n",
    "    batch_size=batch_size,\n",
    "    collate_fn=customized_collate_fn,\n",
    "    shuffle=False,\n",
    "    drop_last=False,\n",
    "    num_workers=num_workers\n",
    ")\n",
    "\n",
    "test_dataset = InstructionDataset(test_data, tokenizer)\n",
    "\n",
    "test_loader = DataLoader(\n",
    "    test_dataset,\n",
    "    batch_size=batch_size,\n",
    "    collate_fn=customized_collate_fn,\n",
    "    shuffle=False,\n",
    "    drop_last=False,\n",
    "    num_workers=num_workers\n",
    ")\n"
   ]
  },
  {
   "cell_type": "code",
   "execution_count": null,
   "id": "687f4adc-dc34-4440-89f5-50a7670424f9",
   "metadata": {},
   "outputs": [],
   "source": [
    "print(\"Train loader:\")\n",
    "for inputs, targets in train_loader:\n",
    "    print(inputs.shape, targets.shape)"
   ]
  },
  {
   "cell_type": "code",
   "execution_count": null,
   "id": "19b256ec-b95b-4775-ac8a-99b837edea2e",
   "metadata": {},
   "outputs": [],
   "source": []
  }
 ],
 "metadata": {
  "kernelspec": {
   "display_name": "Python [conda env:base] *",
   "language": "python",
   "name": "conda-base-py"
  },
  "language_info": {
   "codemirror_mode": {
    "name": "ipython",
    "version": 3
   },
   "file_extension": ".py",
   "mimetype": "text/x-python",
   "name": "python",
   "nbconvert_exporter": "python",
   "pygments_lexer": "ipython3",
   "version": "3.12.7"
  }
 },
 "nbformat": 4,
 "nbformat_minor": 5
}
